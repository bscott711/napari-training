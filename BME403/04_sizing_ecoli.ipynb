{
 "cells": [
  {
   "cell_type": "markdown",
   "metadata": {},
   "source": [
    "# **Jupyter Notebook: Estimating *E. coli* Volume and Molecular Counts**\n",
    "\n",
    "## **Objective**\n",
    "In this exercise, we will:\n",
    "1. Use Napari to visualize microscope images of *E. coli* and a graticule to calculate the scale.\n",
    "2. Measure the dimensions of an *E. coli* cell and estimate its volume.\n",
    "3. Calculate the number of molecules present in the cell at a given concentration (e.g., 1 nM).\n",
    "\n",
    "---\n",
    "\n",
    "## **Setup**\n",
    "### **Install Required Libraries**\n",
    "Before running this notebook, ensure the following libraries are installed:\n",
    "```bash\n",
    "pip install napari jupyterlab matplotlib numpy scipy scikit-image\n",
    "```\n",
    "\n",
    "### **Files Needed**\n",
    "- `Ecoli100x.tif`: Microscope image of *E. coli* cells.\n",
    "- `Graticule100x.tif`: Graticule image used to calibrate the scale."
   ]
  },
  {
   "cell_type": "code",
   "execution_count": null,
   "id": "5cba6d03",
   "metadata": {},
   "outputs": [],
   "source": [
    "# QED to display the images inline to verify that the graticule and E. coli images are the proper scale.\n",
    "import tifffile as tiff\n",
    "import numpy as np\n",
    "import matplotlib.pyplot as plt\n",
    "\n",
    "# Load images\n",
    "img1 = tiff.imread('data/Graticule100x.tif')  # Graticule\n",
    "img2 = tiff.imread('data/Ecoli100x.tif') # E coli\n",
    "\n",
    "# Identify the larger and smaller image\n",
    "if img1.shape > img2.shape:\n",
    "    large_img, small_img = img1, img2\n",
    "else:\n",
    "    large_img, small_img = img2, img1\n",
    "\n",
    "# Compute cropping coordinates\n",
    "large_h, large_w = large_img.shape[:2]\n",
    "small_h, small_w = small_img.shape[:2]\n",
    "\n",
    "crop_h_start = (large_h - small_h) // 2\n",
    "crop_w_start = (large_w - small_w) // 2\n",
    "\n",
    "cropped_large_img = large_img[crop_h_start:crop_h_start + small_h, crop_w_start:crop_w_start + small_w]\n",
    "\n",
    "# Blend images with transparency\n",
    "alpha = 0.5  # Adjust opacity\n",
    "overlay = (1 - alpha) * cropped_large_img + alpha * small_img\n",
    "\n",
    "# Display the result\n",
    "plt.figure(figsize=(6,6))\n",
    "plt.imshow(overlay, cmap=\"gray\")\n",
    "plt.axis(\"off\")\n",
    "plt.show()"
   ]
  },
  {
   "cell_type": "markdown",
   "metadata": {},
   "source": [
    "## **Step 1: Load Images in Napari**\n",
    "We'll use Napari to load and visualize the microscope images."
   ]
  },
  {
   "cell_type": "code",
   "execution_count": null,
   "metadata": {},
   "outputs": [],
   "source": [
    "import napari\n",
    "from skimage import io\n",
    "\n",
    "# Load the images\n",
    "ecoli_image = io.imread(\"Ecoli100x.tif\")  # Image of E. coli\n",
    "graticule_image = io.imread(\"Graticule100x.tif\")  # Graticule for scale calibration\n",
    "\n",
    "# Open Napari viewer\n",
    "viewer = napari.Viewer()\n",
    "viewer.add_image(ecoli_image, name=\"E. coli\")\n",
    "viewer.add_image(graticule_image, name=\"Graticule\")"
   ]
  },
  {
   "cell_type": "markdown",
   "metadata": {},
   "source": [
    "### **Instructions**\n",
    "1. Run the above cell to open Napari within the Jupyter interface.\n",
    "2. Use the **line tool** in Napari to measure distances on the graticule and *E. coli* images.\n",
    "3. Record the pixel measurements and convert them to micrometers ($ \\mu m $) using the graticule scale."
   ]
  },
  {
   "cell_type": "markdown",
   "metadata": {},
   "source": [
    "## **Step 2: Calculate the Scale**\n",
    "The graticule image contains markings with known dimensions. Use it to determine the scale (pixels per micrometer).\n",
    "\n",
    "### **Example**\n",
    "Suppose the graticule markings indicate that 10 pixels correspond to 1 µm. Then:\n",
    "$$\n",
    "\\text{Scale} = \\frac{\\text{Number of pixels}}{\\text{Known distance in µm}}\n",
    "$$"
   ]
  },
  {
   "cell_type": "code",
   "execution_count": null,
   "metadata": {},
   "outputs": [],
   "source": [
    "# Example: If 10 pixels = 1 µm\n",
    "pixels_per_um = 10  # Replace with your measurement from Napari\n",
    "scale_um_per_pixel = 1 / pixels_per_um\n",
    "print(f\"Scale: {scale_um_per_pixel:.2f} µm/pixel\")"
   ]
  },
  {
   "cell_type": "markdown",
   "metadata": {},
   "source": [
    "## **Step 3: Measure Dimensions of *E. coli***\n",
    "Use Napari to measure the length ($L$) and diameter ($D$) of an *E. coli* cell in pixels. Convert these measurements to micrometers using the scale.\n",
    "\n",
    "### **Example**\n",
    "If the measured length is 20 pixels and the diameter is 5 pixels:\n",
    "$$\n",
    "L = 20 \\, \\text{pixels} \\times \\text{Scale} \\, (\\mu m/\\text{pixel})\n",
    "$$\n",
    "$$\n",
    "D = 5 \\, \\text{pixels} \\times \\text{Scale} \\, (\\mu m/\\text{pixel})\n",
    "$$"
   ]
  },
  {
   "cell_type": "code",
   "execution_count": null,
   "metadata": {},
   "outputs": [],
   "source": [
    "# Example measurements (replace with your values)\n",
    "length_pixels = 20  # Length in pixels\n",
    "diameter_pixels = 5  # Diameter in pixels\n",
    "\n",
    "# Convert to micrometers\n",
    "length_um = length_pixels * scale_um_per_pixel\n",
    "diameter_um = diameter_pixels * scale_um_per_pixel\n",
    "\n",
    "print(f\"Length: {length_um:.2f} µm\")\n",
    "print(f\"Diameter: {diameter_um:.2f} µm\")"
   ]
  },
  {
   "cell_type": "markdown",
   "metadata": {},
   "source": [
    "## **Step 4: Calculate the Volume**\n",
    "Model the *E. coli* cell as a cylinder and calculate its volume:\n",
    "$$\n",
    "V = \\pi r^2 L\n",
    "$$\n",
    "Where:\n",
    "- $r = D/2$ is the radius,\n",
    "- $L$ is the length."
   ]
  },
  {
   "cell_type": "code",
   "execution_count": null,
   "metadata": {},
   "outputs": [],
   "source": [
    "import numpy as np\n",
    "\n",
    "# Radius\n",
    "radius_um = diameter_um / 2\n",
    "\n",
    "# Volume of a cylinder\n",
    "volume_um3 = np.pi * (radius_um**2) * length_um\n",
    "print(f\"Volume of the E. coli cell: {volume_um3:.2f} µm³\")"
   ]
  },
  {
   "cell_type": "markdown",
   "metadata": {},
   "source": [
    "## **Step 5: Convert Volume to Liters**\n",
    "Convert the volume from cubic micrometers ($ \\mu m^3 $) to liters ($ L $):\n",
    "$$\n",
    "1 \\, \\mu m^3 = 10^{-18} \\, \\text{m}^3, \\quad 1 \\, \\text{L} = 10^{-3} \\, \\text{m}^3\n",
    "$$"
   ]
  },
  {
   "cell_type": "code",
   "execution_count": null,
   "metadata": {},
   "outputs": [],
   "source": [
    "# Conversion factors\n",
    "volume_m3 = volume_um3 * 1e-18  # Convert µm³ to m³\n",
    "volume_L = volume_m3 * 1e3      # Convert m³ to L\n",
    "\n",
    "print(f\"Volume of the E. coli cell: {volume_L:.2e} L\")"
   ]
  },
  {
   "cell_type": "markdown",
   "metadata": {},
   "source": [
    "## **Step 6: Calculate the Number of Molecules**\n",
    "Calculate the number of molecules at a given concentration (e.g., 1 nM):\n",
    "$$\n",
    "N = C \\cdot V \\cdot N_A\n",
    "$$\n",
    "Where:\n",
    "- $C$: Concentration in mol/L,\n",
    "- $V$: Volume in liters,\n",
    "- $N_A$: Avogadro's number ($6.022 \\times 10^{23}$)."
   ]
  },
  {
   "cell_type": "code",
   "execution_count": null,
   "metadata": {},
   "outputs": [],
   "source": [
    "# Constants\n",
    "concentration_nM = 1  # Concentration in nanomolar (nM)\n",
    "avogadro_number = 6.022e23  # Avogadro's number\n",
    "\n",
    "# Convert concentration to mol/L\n",
    "concentration_mol_per_L = concentration_nM * 1e-9\n",
    "\n",
    "# Number of molecules\n",
    "number_of_molecules = concentration_mol_per_L * volume_L * avogadro_number\n",
    "print(f\"Number of molecules at {concentration_nM} nM: {number_of_molecules:.2f}\")"
   ]
  },
  {
   "cell_type": "markdown",
   "metadata": {},
   "source": [
    "## **Discussion**\n",
    "### **Key Results**\n",
    "1. At $ 1 \\, \\text{nM} $, there are approximately **0.24 molecules** in an *E. coli* cell, highlighting the stochastic nature of low-concentration processes.\n",
    "2. At $ 1 \\, \\mu M $, the number of molecules increases to ~241, making molecular interactions more deterministic.\n",
    "\n",
    "### **Questions for Discussion**\n",
    "1. How does the calculated volume compare to typical *E. coli* dimensions?\n",
    "2. What are the implications of having fewer than one molecule in the cell at low concentrations?\n",
    "3. How might diffusion timescales vary based on the estimated volume?\n",
    "\n",
    "---\n",
    "\n",
    "## **Next Steps**\n",
    "Now that we’ve estimated the number of molecules in a cell, let’s explore how these molecules move and interact through diffusion."
   ]
  }
 ],
 "metadata": {
  "kernelspec": {
   "display_name": "Python 3",
   "language": "python",
   "name": "python3"
  },
  "language_info": {
   "codemirror_mode": {
    "name": "ipython",
    "version": 3
   },
   "file_extension": ".py",
   "mimetype": "text/x-python",
   "name": "python",
   "nbconvert_exporter": "python",
   "pygments_lexer": "ipython3",
   "version": "3.9.7"
  }
 },
 "nbformat": 4,
 "nbformat_minor": 5
}
